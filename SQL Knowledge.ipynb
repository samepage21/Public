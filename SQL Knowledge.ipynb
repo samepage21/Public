{
 "cells": [
  {
   "cell_type": "markdown",
   "metadata": {},
   "source": [
    "Objective: Demonstrate my knowledge of SQL below using a popular toy SQLite database, called Chinook, which represents a digital music collection. See the documentation at:\n",
    "\n",
    "https://github.com/lerocha/chinook-database/blob/master/ChinookDatabase/DataSources/Chinook_Sqlite.sqlite"
   ]
  },
  {
   "cell_type": "markdown",
   "metadata": {},
   "source": [
    "## Load database"
   ]
  },
  {
   "cell_type": "code",
   "execution_count": 2,
   "metadata": {},
   "outputs": [],
   "source": [
    "import sqlite3\n",
    "import matplotlib.pyplot as plt\n",
    "\n",
    "# downloaded from https://github.com/lerocha/chinook-database/blob/master/ChinookDatabase/DataSources/Chinook_Sqlite.sqlite\n",
    "db = 'Chinook_Sqlite.sqlite' \n",
    "\n",
    "#Establish connection and cursor objects to facilitate interaction with database\n",
    "conn = sqlite3.connect(db)\n",
    "db = conn.cursor()\n"
   ]
  },
  {
   "cell_type": "markdown",
   "metadata": {},
   "source": [
    "List the names of the tables in the dataset"
   ]
  },
  {
   "cell_type": "code",
   "execution_count": 42,
   "metadata": {},
   "outputs": [
    {
     "name": "stdout",
     "output_type": "stream",
     "text": [
      "Album\n",
      "Artist\n",
      "Customer\n",
      "Employee\n",
      "Genre\n",
      "Invoice\n",
      "InvoiceLine\n",
      "MediaType\n",
      "Playlist\n",
      "PlaylistTrack\n",
      "Track\n"
     ]
    }
   ],
   "source": [
    "res = db.execute(\"SELECT name FROM sqlite_master WHERE type='table';\")\n",
    "for name in res:\n",
    "    print(name[0])"
   ]
  },
  {
   "cell_type": "markdown",
   "metadata": {},
   "source": [
    "## Example 1 - Album lengths"
   ]
  },
  {
   "cell_type": "markdown",
   "metadata": {},
   "source": [
    "**Objective:** Determine how many songs are on each album and which album has the most songs on it.\n",
    "\n",
    "**SQL skills demonstrated:** basic joins, group by, common table expressions, sum, max"
   ]
  },
  {
   "cell_type": "code",
   "execution_count": 27,
   "metadata": {},
   "outputs": [],
   "source": [
    "query = \"\"\"with album_length as (\n",
    "                select a.title \n",
    "                    , count(distinct t.name) album_length\n",
    "                from album a\n",
    "                left join track t on t.albumid = a.albumid\n",
    "                group by 1\n",
    "                )\n",
    "            \n",
    "            select album_length\n",
    "                , count(*)\n",
    "            from album_length\n",
    "            group by 1\n",
    "            \"\"\"\n",
    "alb_lengths = []\n",
    "counts = []\n",
    "\n",
    "for row in db.execute(query):\n",
    "    alb_lengths.append(row[0])\n",
    "    counts.append(row[1])"
   ]
  },
  {
   "cell_type": "markdown",
   "metadata": {},
   "source": [
    "Graph the number of albums of different lengths"
   ]
  },
  {
   "cell_type": "code",
   "execution_count": 34,
   "metadata": {},
   "outputs": [
    {
     "data": {
      "image/png": "[encoded data removed]",
      "text/plain": [
       "<Figure size 432x288 with 1 Axes>"
      ]
     },
     "metadata": {
      "needs_background": "light"
     },
     "output_type": "display_data"
    }
   ],
   "source": [
    "plt.bar(alb_lengths, counts, color ='maroon')\n",
    "plt.xlabel(\"No. of songs on the album\") \n",
    "plt.ylabel(\"No. of albums\") \n",
    "plt.title(\"Distribution of number of songs on albums\") \n",
    "plt.annotate('Maximum', xy=(57, 3), xytext=(48, 25),\n",
    "            arrowprops=dict(facecolor='green', shrink=.05))\n",
    "plt.show() "
   ]
  },
  {
   "cell_type": "markdown",
   "metadata": {},
   "source": [
    "Find the name of the album that has 57 songs on it. Also presumably the albums with 1 song on them are singles."
   ]
  },
  {
   "cell_type": "code",
   "execution_count": 39,
   "metadata": {},
   "outputs": [
    {
     "name": "stdout",
     "output_type": "stream",
     "text": [
      "The album with the most songs on it is called Greatest Hits!\n"
     ]
    }
   ],
   "source": [
    "query = \"\"\"with album_length as (\n",
    "                select a.title \n",
    "                    , count(distinct t.name) album_length\n",
    "                from album a\n",
    "                left join track t on t.albumid = a.albumid\n",
    "                group by 1\n",
    "                )\n",
    "            \n",
    "            select title\n",
    "                , max(album_length)\n",
    "            from album_length\n",
    "            \"\"\"\n",
    "\n",
    "for row in db.execute(query):\n",
    "    print('The album with the most songs on it is called '+ row[0] + '!')"
   ]
  },
  {
   "cell_type": "markdown",
   "metadata": {},
   "source": [
    "## Example 2 - Sales"
   ]
  },
  {
   "cell_type": "markdown",
   "metadata": {},
   "source": [
    "**Objective:** Using invoicing data, figure out which artists have over $50 in sales in this database and rank 'The' artists in terms of sales.\n",
    "\n",
    "**SQL skills demonstrated:** common table expressions, subqueries, group by, joins, window functions"
   ]
  },
  {
   "cell_type": "code",
   "execution_count": 50,
   "metadata": {},
   "outputs": [
    {
     "name": "stdout",
     "output_type": "stream",
     "text": [
      "('Kiss', 30.68999999999999)\n",
      "('Pearl Jam', 31.67999999999998)\n",
      "('Green Day', 32.66999999999999)\n",
      "('Titãs', 33.65999999999998)\n",
      "(\"Guns N' Roses\", 35.63999999999999)\n",
      "('Battlestar Galactica (Classic)', 35.81999999999999)\n",
      "('Creedence Clearwater Revival', 36.629999999999995)\n",
      "('Queen', 36.629999999999995)\n",
      "('R.E.M.', 38.609999999999985)\n",
      "('Eric Clapton', 39.6)\n",
      "('Faith No More', 41.57999999999999)\n",
      "('Deep Purple', 43.56)\n",
      "('Os Paralamas Do Sucesso', 44.55)\n",
      "('The Office', 49.75)\n",
      "('Lost', 81.58999999999997)\n",
      "('Led Zeppelin', 86.12999999999992)\n",
      "('Metallica', 90.08999999999992)\n",
      "('U2', 105.92999999999991)\n",
      "('Iron Maiden', 138.5999999999999)\n"
     ]
    }
   ],
   "source": [
    "query = \"\"\" with sales as (\n",
    "                    select trackid\n",
    "                        , sum(unitprice * quantity) as sale_amount\n",
    "                    from invoiceline\n",
    "                    group by 1\n",
    "                )\n",
    "            \n",
    "            , artist_sales as (\n",
    "                select t.trackid\n",
    "                    , ar.name\n",
    "                    , case when sale_amount is NULL then 0 else sale_amount end as sale_amount\n",
    "                from track t\n",
    "                left join sales s on t.trackid = s.trackid\n",
    "                left join album a on a.albumid = t.albumid\n",
    "                left join artist ar on ar.artistid = a.artistid\n",
    "                )\n",
    "            \n",
    "            select name \n",
    "                , sum(sale_amount) as total_sales \n",
    "            from artist_sales\n",
    "            group by 1\n",
    "            having sum(sale_amount) > 30.0\n",
    "            order by total_sales asc\n",
    "            \"\"\"\n",
    "for row in db.execute(query):\n",
    "    print(row)"
   ]
  },
  {
   "cell_type": "markdown",
   "metadata": {},
   "source": [
    "Rank artist whose name start with 'The' by dollar sales amount."
   ]
  },
  {
   "cell_type": "code",
   "execution_count": 62,
   "metadata": {},
   "outputs": [
    {
     "name": "stdout",
     "output_type": "stream",
     "text": [
      "('The Office', 49.75, 1)\n",
      "('The Who', 18.810000000000002, 2)\n",
      "('The Rolling Stones', 17.82, 3)\n",
      "('The Tea Party', 16.830000000000002, 4)\n",
      "('The Cult', 15.840000000000002, 5)\n",
      "('The Black Crowes', 13.860000000000001, 6)\n",
      "('The Clash', 9.9, 7)\n",
      "('The Police', 6.930000000000001, 8)\n",
      "('The Doors', 3.96, 9)\n",
      "('The 12 Cellists of The Berlin Philharmonic', 0.99, 10)\n",
      "(\"The King's Singers\", 0.99, 10)\n",
      "('The Posies', 0.99, 10)\n"
     ]
    }
   ],
   "source": [
    "query = \"\"\" with sales as (\n",
    "                    select trackid\n",
    "                        , sum(unitprice * quantity) as sale_amount\n",
    "                    from invoiceline\n",
    "                    group by 1\n",
    "                )\n",
    "            \n",
    "            , artist_sales as (\n",
    "                    select t.trackid\n",
    "                        , ar.name\n",
    "                        , case when sale_amount is NULL then 0 else sale_amount end as sale_amount\n",
    "                    from track t\n",
    "                    left join sales s on t.trackid = s.trackid\n",
    "                    left join album a on a.albumid = t.albumid\n",
    "                    join \n",
    "                        (select artistid,\n",
    "                            name\n",
    "                        from artist \n",
    "                        where name like 'The %') ar on ar.artistid = a.artistid\n",
    "                )\n",
    "            \n",
    "            , total_sales as (\n",
    "                select name \n",
    "                    , sum(sale_amount) as total_sales \n",
    "                from artist_sales\n",
    "                group by 1\n",
    "                )\n",
    "            \n",
    "            select name\n",
    "                , total_sales\n",
    "                , rank() over(order by total_sales desc) as rank\n",
    "            from total_sales\n",
    "\n",
    "            \"\"\"\n",
    "for row in db.execute(query):\n",
    "    print(row)"
   ]
  },
  {
   "cell_type": "code",
   "execution_count": null,
   "metadata": {},
   "outputs": [],
   "source": []
  }
 ],
 "metadata": {
  "kernelspec": {
   "display_name": "Python 3",
   "language": "python",
   "name": "python3"
  },
  "language_info": {
   "codemirror_mode": {
    "name": "ipython",
    "version": 3
   },
   "file_extension": ".py",
   "mimetype": "text/x-python",
   "name": "python",
   "nbconvert_exporter": "python",
   "pygments_lexer": "ipython3",
   "version": "3.8.5"
  }
 },
 "nbformat": 4,
 "nbformat_minor": 4
}
